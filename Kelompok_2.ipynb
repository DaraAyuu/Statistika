{
  "nbformat": 4,
  "nbformat_minor": 0,
  "metadata": {
    "colab": {
      "provenance": [],
      "include_colab_link": true
    },
    "kernelspec": {
      "name": "python3",
      "display_name": "Python 3"
    },
    "language_info": {
      "name": "python"
    }
  },
  "cells": [
    {
      "cell_type": "markdown",
      "metadata": {
        "id": "view-in-github",
        "colab_type": "text"
      },
      "source": [
        "<a href=\"https://colab.research.google.com/github/DaraAyuu/Statistika/blob/main/Kelompok_2.ipynb\" target=\"_parent\"><img src=\"https://colab.research.google.com/assets/colab-badge.svg\" alt=\"Open In Colab\"/></a>"
      ]
    },
    {
      "cell_type": "code",
      "source": [
        "# Variabel biasa\n",
        "variabel_biasa = 10+10\n",
        "\n",
        "print(variabel_biasa)"
      ],
      "metadata": {
        "colab": {
          "base_uri": "https://localhost:8080/"
        },
        "id": "ZXP3f-aXP3Ah",
        "outputId": "2f100e37-b7bf-4e5c-96b7-e47f34f7bb06"
      },
      "execution_count": null,
      "outputs": [
        {
          "output_type": "stream",
          "name": "stdout",
          "text": [
            "20\n"
          ]
        }
      ]
    },
    {
      "cell_type": "code",
      "source": [
        "# Variabel array\n",
        "variabel_array = [1,2,3,4]\n",
        "\n",
        "print(variabel_array)"
      ],
      "metadata": {
        "colab": {
          "base_uri": "https://localhost:8080/"
        },
        "id": "eGpXV-DeQ-0z",
        "outputId": "91b57e20-7027-40ec-cd37-c550cb7bb1ee"
      },
      "execution_count": null,
      "outputs": [
        {
          "output_type": "stream",
          "name": "stdout",
          "text": [
            "[1, 2, 3, 4]\n"
          ]
        }
      ]
    },
    {
      "cell_type": "code",
      "source": [
        "# Variabel dictionary\n",
        "variabel_dictionary = {\n",
        "    \"nama\": \"oskhar\",\n",
        "    \"nilai\": [1,2,3,4],\n",
        "    \"kuliah\": \"uwin\"\n",
        "}\n",
        "print(variabel_dictionary)\n",
        "print(variabel_dictionary[\"nama\"])"
      ],
      "metadata": {
        "colab": {
          "base_uri": "https://localhost:8080/"
        },
        "id": "VHloQGwJRLEz",
        "outputId": "54bce4b3-c511-4e32-f36b-4d8004906566"
      },
      "execution_count": null,
      "outputs": [
        {
          "output_type": "stream",
          "name": "stdout",
          "text": [
            "{'nama': 'oskhar', 'nilai': [1, 2, 3, 4], 'kuliah': 'uwin'}\n",
            "oskhar\n"
          ]
        }
      ]
    },
    {
      "cell_type": "code",
      "source": [
        "import pandas as pd\n",
        "data = {\n",
        "    \"ewogs\": [1.2,2,3,4],\n",
        "    \"tanjung\": [4.0,3,2,1]\n",
        "}\n",
        "\n",
        "show = pd.DataFrame(data)\n",
        "show.min()"
      ],
      "metadata": {
        "colab": {
          "base_uri": "https://localhost:8080/"
        },
        "id": "6FPKSc3bRnu6",
        "outputId": "9f0aab53-5caa-4cd1-9202-44a9e8682d29"
      },
      "execution_count": null,
      "outputs": [
        {
          "output_type": "execute_result",
          "data": {
            "text/plain": [
              "ewogs      1.2\n",
              "tanjung    1.0\n",
              "dtype: float64"
            ]
          },
          "metadata": {},
          "execution_count": 11
        }
      ]
    }
  ]
}